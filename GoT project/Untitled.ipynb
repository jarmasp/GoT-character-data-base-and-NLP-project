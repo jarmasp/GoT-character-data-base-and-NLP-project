{
 "cells": [
  {
   "cell_type": "code",
   "execution_count": 2,
   "metadata": {},
   "outputs": [],
   "source": [
    "import pandas\n",
    "import time\n",
    "from selenium import webdriver\n",
    "from webdriver_manager.chrome import ChromeDriverManager"
   ]
  },
  {
   "cell_type": "code",
   "execution_count": 7,
   "metadata": {},
   "outputs": [
    {
     "name": "stdout",
     "output_type": "stream",
     "text": [
      "\n"
     ]
    },
    {
     "name": "stderr",
     "output_type": "stream",
     "text": [
      "C:\\Users\\Thyfus\\anaconda3\\lib\\site-packages\\ipykernel_launcher.py:1: DeprecationWarning: executable_path has been deprecated, please pass in a Service object\n",
      "  \"\"\"Entry point for launching an IPython kernel.\n"
     ]
    }
   ],
   "source": [
    "driver = webdriver.Chrome(ChromeDriverManager().install())"
   ]
  },
  {
   "cell_type": "code",
   "execution_count": 4,
   "metadata": {},
   "outputs": [],
   "source": [
    "url = 'https://iceandfire.fandom.com/wiki/Category:Characters'"
   ]
  },
  {
   "cell_type": "code",
   "execution_count": 42,
   "metadata": {},
   "outputs": [],
   "source": [
    "driver.get(url)"
   ]
  },
  {
   "cell_type": "code",
   "execution_count": 43,
   "metadata": {},
   "outputs": [],
   "source": [
    "character = driver.find_elements('class name', \"category-page__member-link\")"
   ]
  },
  {
   "cell_type": "code",
   "execution_count": 44,
   "metadata": {},
   "outputs": [
    {
     "data": {
      "text/plain": [
       "[<selenium.webdriver.remote.webelement.WebElement (session=\"8c74270c2ea22805a7c0e655811af14f\", element=\"b6bc7919-94d4-47c7-9231-61d654fd414d\")>,\n",
       " <selenium.webdriver.remote.webelement.WebElement (session=\"8c74270c2ea22805a7c0e655811af14f\", element=\"1de758cb-b7cf-47ac-83cd-e07b9024b112\")>,\n",
       " <selenium.webdriver.remote.webelement.WebElement (session=\"8c74270c2ea22805a7c0e655811af14f\", element=\"e62e4b9b-e3d2-4a56-b631-7cb24ddaa395\")>,\n",
       " <selenium.webdriver.remote.webelement.WebElement (session=\"8c74270c2ea22805a7c0e655811af14f\", element=\"b21acf17-247f-436f-86c4-375ce14741de\")>,\n",
       " <selenium.webdriver.remote.webelement.WebElement (session=\"8c74270c2ea22805a7c0e655811af14f\", element=\"3ed4a9b7-c7df-4860-ac6c-5ca86fca7743\")>,\n",
       " <selenium.webdriver.remote.webelement.WebElement (session=\"8c74270c2ea22805a7c0e655811af14f\", element=\"ea9c3b99-4065-4a53-9a14-4b4d0dd39490\")>,\n",
       " <selenium.webdriver.remote.webelement.WebElement (session=\"8c74270c2ea22805a7c0e655811af14f\", element=\"83b09734-e983-47dd-a7c7-849c1e002461\")>,\n",
       " <selenium.webdriver.remote.webelement.WebElement (session=\"8c74270c2ea22805a7c0e655811af14f\", element=\"85920ac1-1ae8-4f06-ad72-310ee66fac71\")>,\n",
       " <selenium.webdriver.remote.webelement.WebElement (session=\"8c74270c2ea22805a7c0e655811af14f\", element=\"f70f27b9-ef11-4784-b8cf-02c406e68537\")>,\n",
       " <selenium.webdriver.remote.webelement.WebElement (session=\"8c74270c2ea22805a7c0e655811af14f\", element=\"9b94cdde-6fdd-46d3-bca8-84b93c134f56\")>,\n",
       " <selenium.webdriver.remote.webelement.WebElement (session=\"8c74270c2ea22805a7c0e655811af14f\", element=\"9a7162f5-eada-4958-b6c0-dcda0b25c1bc\")>,\n",
       " <selenium.webdriver.remote.webelement.WebElement (session=\"8c74270c2ea22805a7c0e655811af14f\", element=\"25522657-e810-46e8-922a-14b5a3d2defb\")>,\n",
       " <selenium.webdriver.remote.webelement.WebElement (session=\"8c74270c2ea22805a7c0e655811af14f\", element=\"51923779-a8a9-4fdb-8857-b9096ac57881\")>,\n",
       " <selenium.webdriver.remote.webelement.WebElement (session=\"8c74270c2ea22805a7c0e655811af14f\", element=\"3838280b-2476-44a4-b1b2-7addbce0eb5e\")>,\n",
       " <selenium.webdriver.remote.webelement.WebElement (session=\"8c74270c2ea22805a7c0e655811af14f\", element=\"8466ebae-ea0b-4717-9b03-4377b0920d2b\")>,\n",
       " <selenium.webdriver.remote.webelement.WebElement (session=\"8c74270c2ea22805a7c0e655811af14f\", element=\"5cc3cb97-7385-4704-9337-c378a63e8774\")>,\n",
       " <selenium.webdriver.remote.webelement.WebElement (session=\"8c74270c2ea22805a7c0e655811af14f\", element=\"652488a1-2840-4c7a-bbe0-fbbf9774d055\")>,\n",
       " <selenium.webdriver.remote.webelement.WebElement (session=\"8c74270c2ea22805a7c0e655811af14f\", element=\"27dc978c-06c8-479f-85c0-6513a21921d2\")>,\n",
       " <selenium.webdriver.remote.webelement.WebElement (session=\"8c74270c2ea22805a7c0e655811af14f\", element=\"30a2e21f-a118-40c3-a80b-d8c639d3f8a1\")>,\n",
       " <selenium.webdriver.remote.webelement.WebElement (session=\"8c74270c2ea22805a7c0e655811af14f\", element=\"a08b7915-670c-4994-be0c-44352a8a01c9\")>,\n",
       " <selenium.webdriver.remote.webelement.WebElement (session=\"8c74270c2ea22805a7c0e655811af14f\", element=\"91fe7bce-3ad8-4c4a-8053-421dd3607c52\")>,\n",
       " <selenium.webdriver.remote.webelement.WebElement (session=\"8c74270c2ea22805a7c0e655811af14f\", element=\"a68297d4-0e77-468e-be90-ad341d711df0\")>,\n",
       " <selenium.webdriver.remote.webelement.WebElement (session=\"8c74270c2ea22805a7c0e655811af14f\", element=\"88bbb4ef-2a1c-44cb-aa30-7c498e84bb6f\")>,\n",
       " <selenium.webdriver.remote.webelement.WebElement (session=\"8c74270c2ea22805a7c0e655811af14f\", element=\"21bf22c3-558e-4721-b88e-b1edd24c1d45\")>,\n",
       " <selenium.webdriver.remote.webelement.WebElement (session=\"8c74270c2ea22805a7c0e655811af14f\", element=\"bdac80c4-7a72-4028-aaae-2e0c3655d2d7\")>,\n",
       " <selenium.webdriver.remote.webelement.WebElement (session=\"8c74270c2ea22805a7c0e655811af14f\", element=\"6bcc7194-66bd-4a06-b4a0-162d6c9b9dc7\")>,\n",
       " <selenium.webdriver.remote.webelement.WebElement (session=\"8c74270c2ea22805a7c0e655811af14f\", element=\"6a394480-4ff1-4088-bd0f-69c4b7450cf5\")>,\n",
       " <selenium.webdriver.remote.webelement.WebElement (session=\"8c74270c2ea22805a7c0e655811af14f\", element=\"da142740-2c5e-467a-b759-badb6c418f9d\")>,\n",
       " <selenium.webdriver.remote.webelement.WebElement (session=\"8c74270c2ea22805a7c0e655811af14f\", element=\"7e8e847d-4fcd-4587-9c92-5fd6bafd1a92\")>,\n",
       " <selenium.webdriver.remote.webelement.WebElement (session=\"8c74270c2ea22805a7c0e655811af14f\", element=\"295fdf54-5c8b-423b-b535-cb918864e48a\")>,\n",
       " <selenium.webdriver.remote.webelement.WebElement (session=\"8c74270c2ea22805a7c0e655811af14f\", element=\"1baff32f-181b-4245-9855-f4c261b96e21\")>,\n",
       " <selenium.webdriver.remote.webelement.WebElement (session=\"8c74270c2ea22805a7c0e655811af14f\", element=\"0694de4c-a36a-47e0-b178-aa2701f31490\")>,\n",
       " <selenium.webdriver.remote.webelement.WebElement (session=\"8c74270c2ea22805a7c0e655811af14f\", element=\"941377a2-5b47-4877-afc9-21e3d1410fa8\")>,\n",
       " <selenium.webdriver.remote.webelement.WebElement (session=\"8c74270c2ea22805a7c0e655811af14f\", element=\"16577183-711f-4d99-97f8-3ef0cf6b4cff\")>,\n",
       " <selenium.webdriver.remote.webelement.WebElement (session=\"8c74270c2ea22805a7c0e655811af14f\", element=\"f452a0d0-85c9-4e9c-b885-b16f09226828\")>,\n",
       " <selenium.webdriver.remote.webelement.WebElement (session=\"8c74270c2ea22805a7c0e655811af14f\", element=\"27907639-d06c-4c8e-99cf-908a465d487b\")>,\n",
       " <selenium.webdriver.remote.webelement.WebElement (session=\"8c74270c2ea22805a7c0e655811af14f\", element=\"9dbaf643-a0f0-4f82-87ef-c3a2343ac46c\")>,\n",
       " <selenium.webdriver.remote.webelement.WebElement (session=\"8c74270c2ea22805a7c0e655811af14f\", element=\"11f93a57-41a5-4838-878c-4edf1d72a9ba\")>,\n",
       " <selenium.webdriver.remote.webelement.WebElement (session=\"8c74270c2ea22805a7c0e655811af14f\", element=\"dfbf7d11-be8f-48be-b4cf-535ab9e1ab9c\")>,\n",
       " <selenium.webdriver.remote.webelement.WebElement (session=\"8c74270c2ea22805a7c0e655811af14f\", element=\"04eef0d8-271d-458d-b416-c67feb19e745\")>,\n",
       " <selenium.webdriver.remote.webelement.WebElement (session=\"8c74270c2ea22805a7c0e655811af14f\", element=\"32428d37-4e79-48a4-82ca-3fd212f19e20\")>,\n",
       " <selenium.webdriver.remote.webelement.WebElement (session=\"8c74270c2ea22805a7c0e655811af14f\", element=\"7614839f-1fe5-4dc9-aaac-7c46c60f24d0\")>,\n",
       " <selenium.webdriver.remote.webelement.WebElement (session=\"8c74270c2ea22805a7c0e655811af14f\", element=\"3875e45a-5961-47cf-8c62-24f4ba525a2c\")>,\n",
       " <selenium.webdriver.remote.webelement.WebElement (session=\"8c74270c2ea22805a7c0e655811af14f\", element=\"6e917e66-1ca2-419a-8d65-9dde95b4fd92\")>,\n",
       " <selenium.webdriver.remote.webelement.WebElement (session=\"8c74270c2ea22805a7c0e655811af14f\", element=\"63524dbe-30dc-4284-a445-1600d4da8756\")>,\n",
       " <selenium.webdriver.remote.webelement.WebElement (session=\"8c74270c2ea22805a7c0e655811af14f\", element=\"22468cad-a78c-409d-bcee-8264a6b7d58d\")>,\n",
       " <selenium.webdriver.remote.webelement.WebElement (session=\"8c74270c2ea22805a7c0e655811af14f\", element=\"83af118d-f507-490e-9cdc-8f9146aeeb7a\")>,\n",
       " <selenium.webdriver.remote.webelement.WebElement (session=\"8c74270c2ea22805a7c0e655811af14f\", element=\"be367d8f-895f-43ec-bf00-70f31deb1a6b\")>,\n",
       " <selenium.webdriver.remote.webelement.WebElement (session=\"8c74270c2ea22805a7c0e655811af14f\", element=\"2c44901f-26c4-4953-bd6d-db514c017d59\")>,\n",
       " <selenium.webdriver.remote.webelement.WebElement (session=\"8c74270c2ea22805a7c0e655811af14f\", element=\"0c1f0089-aeb0-4bce-a2b7-9d0532735d06\")>,\n",
       " <selenium.webdriver.remote.webelement.WebElement (session=\"8c74270c2ea22805a7c0e655811af14f\", element=\"08af1266-f325-48fb-9ed1-8dd4082b06b6\")>,\n",
       " <selenium.webdriver.remote.webelement.WebElement (session=\"8c74270c2ea22805a7c0e655811af14f\", element=\"912fe2a8-d562-432e-aee3-3478bf99ca94\")>,\n",
       " <selenium.webdriver.remote.webelement.WebElement (session=\"8c74270c2ea22805a7c0e655811af14f\", element=\"e4e959ee-dd9d-4630-b7f5-158a1ef2a2af\")>,\n",
       " <selenium.webdriver.remote.webelement.WebElement (session=\"8c74270c2ea22805a7c0e655811af14f\", element=\"325ca490-4848-48ec-a44c-0cbc37392fb5\")>,\n",
       " <selenium.webdriver.remote.webelement.WebElement (session=\"8c74270c2ea22805a7c0e655811af14f\", element=\"ac793e6c-1e1c-4973-bd60-723866a6e1d1\")>,\n",
       " <selenium.webdriver.remote.webelement.WebElement (session=\"8c74270c2ea22805a7c0e655811af14f\", element=\"172be03f-5f30-401b-a8af-64071fb25346\")>,\n",
       " <selenium.webdriver.remote.webelement.WebElement (session=\"8c74270c2ea22805a7c0e655811af14f\", element=\"7b3c79cc-5e08-4011-a26d-595e355adfdf\")>,\n",
       " <selenium.webdriver.remote.webelement.WebElement (session=\"8c74270c2ea22805a7c0e655811af14f\", element=\"5579ec60-e125-445e-9942-66c20b8118f3\")>,\n",
       " <selenium.webdriver.remote.webelement.WebElement (session=\"8c74270c2ea22805a7c0e655811af14f\", element=\"ef3c18c0-a0b8-4c2a-a05c-414ffbe09fa3\")>,\n",
       " <selenium.webdriver.remote.webelement.WebElement (session=\"8c74270c2ea22805a7c0e655811af14f\", element=\"7b37e300-5713-4564-bd05-5bb0d3d04654\")>,\n",
       " <selenium.webdriver.remote.webelement.WebElement (session=\"8c74270c2ea22805a7c0e655811af14f\", element=\"0d8d1bd8-d6aa-4fa7-9b72-163e3e7e2e52\")>,\n",
       " <selenium.webdriver.remote.webelement.WebElement (session=\"8c74270c2ea22805a7c0e655811af14f\", element=\"8f52fbbd-cc56-4af1-a279-c5ee7b8e27b7\")>,\n",
       " <selenium.webdriver.remote.webelement.WebElement (session=\"8c74270c2ea22805a7c0e655811af14f\", element=\"5ba5a980-e96b-4a21-9ced-abb320f5c4b4\")>,\n",
       " <selenium.webdriver.remote.webelement.WebElement (session=\"8c74270c2ea22805a7c0e655811af14f\", element=\"76b0e937-8906-486f-b23d-eb3ac48d5ff4\")>,\n",
       " <selenium.webdriver.remote.webelement.WebElement (session=\"8c74270c2ea22805a7c0e655811af14f\", element=\"43840421-4afc-4776-8c33-a62f27a98681\")>,\n",
       " <selenium.webdriver.remote.webelement.WebElement (session=\"8c74270c2ea22805a7c0e655811af14f\", element=\"7f89b940-1a9b-44a0-9978-8eead46f2c6b\")>,\n",
       " <selenium.webdriver.remote.webelement.WebElement (session=\"8c74270c2ea22805a7c0e655811af14f\", element=\"91e4c6f7-cec3-4d9f-b05b-8b612f21472b\")>,\n",
       " <selenium.webdriver.remote.webelement.WebElement (session=\"8c74270c2ea22805a7c0e655811af14f\", element=\"66f2d2a5-d50d-44eb-8613-ab1990660942\")>,\n",
       " <selenium.webdriver.remote.webelement.WebElement (session=\"8c74270c2ea22805a7c0e655811af14f\", element=\"c85df5d3-146b-479a-aedf-ee99ee41f2dc\")>,\n",
       " <selenium.webdriver.remote.webelement.WebElement (session=\"8c74270c2ea22805a7c0e655811af14f\", element=\"6d6a5397-bed6-414e-8c87-8d54144f57f8\")>,\n",
       " <selenium.webdriver.remote.webelement.WebElement (session=\"8c74270c2ea22805a7c0e655811af14f\", element=\"65aef7b3-d330-49eb-8183-09f6223a8a5b\")>,\n",
       " <selenium.webdriver.remote.webelement.WebElement (session=\"8c74270c2ea22805a7c0e655811af14f\", element=\"9e984ffa-6b6c-4727-be97-808dbba8fe10\")>,\n",
       " <selenium.webdriver.remote.webelement.WebElement (session=\"8c74270c2ea22805a7c0e655811af14f\", element=\"d9762887-a747-4b57-800a-ebfeb7462031\")>,\n",
       " <selenium.webdriver.remote.webelement.WebElement (session=\"8c74270c2ea22805a7c0e655811af14f\", element=\"d19c41ea-1f0c-43e2-bf7e-6a26522e094e\")>,\n",
       " <selenium.webdriver.remote.webelement.WebElement (session=\"8c74270c2ea22805a7c0e655811af14f\", element=\"3dbcf096-58eb-487d-88dd-a96f7af2f393\")>,\n",
       " <selenium.webdriver.remote.webelement.WebElement (session=\"8c74270c2ea22805a7c0e655811af14f\", element=\"9dc29bfe-62f2-4c77-ab7c-31a22ac98e62\")>,\n",
       " <selenium.webdriver.remote.webelement.WebElement (session=\"8c74270c2ea22805a7c0e655811af14f\", element=\"4be3e4f0-5627-421a-9f5b-1fc9575ba83c\")>,\n",
       " <selenium.webdriver.remote.webelement.WebElement (session=\"8c74270c2ea22805a7c0e655811af14f\", element=\"093514ce-a6c5-4d8f-9fb0-5ccd137072c9\")>,\n",
       " <selenium.webdriver.remote.webelement.WebElement (session=\"8c74270c2ea22805a7c0e655811af14f\", element=\"30b14c51-010f-475b-bce0-986fd71e9574\")>,\n",
       " <selenium.webdriver.remote.webelement.WebElement (session=\"8c74270c2ea22805a7c0e655811af14f\", element=\"9e52b5b1-4a4c-42d4-bc6c-6c95af780da1\")>,\n",
       " <selenium.webdriver.remote.webelement.WebElement (session=\"8c74270c2ea22805a7c0e655811af14f\", element=\"e8047b40-2bee-49e8-bba9-d58b1e1a1157\")>,\n",
       " <selenium.webdriver.remote.webelement.WebElement (session=\"8c74270c2ea22805a7c0e655811af14f\", element=\"4b32cac6-090f-41e8-8b7f-ad712b1f1c69\")>,\n",
       " <selenium.webdriver.remote.webelement.WebElement (session=\"8c74270c2ea22805a7c0e655811af14f\", element=\"f51cbd58-954c-4dc4-85fd-e49be130559b\")>,\n",
       " <selenium.webdriver.remote.webelement.WebElement (session=\"8c74270c2ea22805a7c0e655811af14f\", element=\"cc08ac39-67e0-4c45-91e3-0b54db401181\")>,\n",
       " <selenium.webdriver.remote.webelement.WebElement (session=\"8c74270c2ea22805a7c0e655811af14f\", element=\"6990b542-a5e3-42ce-824e-e98edc911a2d\")>,\n",
       " <selenium.webdriver.remote.webelement.WebElement (session=\"8c74270c2ea22805a7c0e655811af14f\", element=\"b7fc06d4-8a44-47ca-9d88-994df72c2a0d\")>,\n",
       " <selenium.webdriver.remote.webelement.WebElement (session=\"8c74270c2ea22805a7c0e655811af14f\", element=\"02a0e547-5a82-4836-9f5f-98840fc0d0a9\")>,\n",
       " <selenium.webdriver.remote.webelement.WebElement (session=\"8c74270c2ea22805a7c0e655811af14f\", element=\"4b9e89a5-53ee-4dbd-bef4-3cfd45ab7f5d\")>,\n",
       " <selenium.webdriver.remote.webelement.WebElement (session=\"8c74270c2ea22805a7c0e655811af14f\", element=\"afee8164-5f81-4787-a824-85146179e8ca\")>,\n",
       " <selenium.webdriver.remote.webelement.WebElement (session=\"8c74270c2ea22805a7c0e655811af14f\", element=\"35242bbc-ea51-4f9d-ba1b-5ac114405028\")>,\n",
       " <selenium.webdriver.remote.webelement.WebElement (session=\"8c74270c2ea22805a7c0e655811af14f\", element=\"4de046c1-67e1-4c57-b206-ccdea3b75f4b\")>,\n",
       " <selenium.webdriver.remote.webelement.WebElement (session=\"8c74270c2ea22805a7c0e655811af14f\", element=\"b124456e-c398-4cf5-bc85-56818ea31c08\")>,\n",
       " <selenium.webdriver.remote.webelement.WebElement (session=\"8c74270c2ea22805a7c0e655811af14f\", element=\"197b8d34-d77c-41d1-babb-639a9600949c\")>,\n",
       " <selenium.webdriver.remote.webelement.WebElement (session=\"8c74270c2ea22805a7c0e655811af14f\", element=\"96be6e7c-1784-4cbd-9649-8cfae2abb28d\")>,\n",
       " <selenium.webdriver.remote.webelement.WebElement (session=\"8c74270c2ea22805a7c0e655811af14f\", element=\"7cb18c0c-9832-4dcb-ae87-2affb12649b0\")>,\n",
       " <selenium.webdriver.remote.webelement.WebElement (session=\"8c74270c2ea22805a7c0e655811af14f\", element=\"0a6251c2-29f2-41df-ba57-cd3a77505c1c\")>,\n",
       " <selenium.webdriver.remote.webelement.WebElement (session=\"8c74270c2ea22805a7c0e655811af14f\", element=\"278cff59-3e29-4d49-9815-7cee75397f1a\")>,\n",
       " <selenium.webdriver.remote.webelement.WebElement (session=\"8c74270c2ea22805a7c0e655811af14f\", element=\"b9853713-481f-4127-9145-576f3654ac13\")>,\n",
       " <selenium.webdriver.remote.webelement.WebElement (session=\"8c74270c2ea22805a7c0e655811af14f\", element=\"e4f58aef-ded3-406e-912c-13809a0a58bb\")>,\n",
       " <selenium.webdriver.remote.webelement.WebElement (session=\"8c74270c2ea22805a7c0e655811af14f\", element=\"19644c87-576e-43fa-a521-9b222429cd04\")>,\n",
       " <selenium.webdriver.remote.webelement.WebElement (session=\"8c74270c2ea22805a7c0e655811af14f\", element=\"80d13b0c-7c62-425c-84b0-8d9baae123fd\")>,\n",
       " <selenium.webdriver.remote.webelement.WebElement (session=\"8c74270c2ea22805a7c0e655811af14f\", element=\"42750660-0327-45e7-a947-11fac667d56d\")>,\n",
       " <selenium.webdriver.remote.webelement.WebElement (session=\"8c74270c2ea22805a7c0e655811af14f\", element=\"1b20f190-4968-42c0-a4a2-61a0d218caad\")>,\n",
       " <selenium.webdriver.remote.webelement.WebElement (session=\"8c74270c2ea22805a7c0e655811af14f\", element=\"b292fd51-86ed-4943-bd31-77f433104d7b\")>,\n",
       " <selenium.webdriver.remote.webelement.WebElement (session=\"8c74270c2ea22805a7c0e655811af14f\", element=\"e2a933c4-ad00-4ba4-aace-e03f7feda607\")>,\n",
       " <selenium.webdriver.remote.webelement.WebElement (session=\"8c74270c2ea22805a7c0e655811af14f\", element=\"4443c007-69a4-46c5-8f64-997359a63bc7\")>,\n",
       " <selenium.webdriver.remote.webelement.WebElement (session=\"8c74270c2ea22805a7c0e655811af14f\", element=\"cbdddca7-7fbc-4560-abb1-ac445cf58568\")>,\n",
       " <selenium.webdriver.remote.webelement.WebElement (session=\"8c74270c2ea22805a7c0e655811af14f\", element=\"bf4e33ba-5d4d-4134-9fa1-d9f84b38444f\")>,\n",
       " <selenium.webdriver.remote.webelement.WebElement (session=\"8c74270c2ea22805a7c0e655811af14f\", element=\"bf39dd2a-2d65-4418-8473-4048cdd1e779\")>,\n",
       " <selenium.webdriver.remote.webelement.WebElement (session=\"8c74270c2ea22805a7c0e655811af14f\", element=\"61bf96da-a1b2-453d-b849-9e31e4419238\")>,\n",
       " <selenium.webdriver.remote.webelement.WebElement (session=\"8c74270c2ea22805a7c0e655811af14f\", element=\"d2c23250-fc6e-46c1-a1d5-0c98832ee513\")>,\n",
       " <selenium.webdriver.remote.webelement.WebElement (session=\"8c74270c2ea22805a7c0e655811af14f\", element=\"00545386-63be-4db1-b6ab-fbc8b4d55f90\")>,\n",
       " <selenium.webdriver.remote.webelement.WebElement (session=\"8c74270c2ea22805a7c0e655811af14f\", element=\"9a385736-f3f6-4542-94e3-fcb2f938e4f6\")>,\n",
       " <selenium.webdriver.remote.webelement.WebElement (session=\"8c74270c2ea22805a7c0e655811af14f\", element=\"a48b1194-475d-42e8-a682-d7621ad9f503\")>,\n",
       " <selenium.webdriver.remote.webelement.WebElement (session=\"8c74270c2ea22805a7c0e655811af14f\", element=\"5df4061e-dc15-48f3-9db1-9fa318a0f920\")>,\n",
       " <selenium.webdriver.remote.webelement.WebElement (session=\"8c74270c2ea22805a7c0e655811af14f\", element=\"fcfcefa4-6182-44f6-8070-49d031e422b0\")>,\n",
       " <selenium.webdriver.remote.webelement.WebElement (session=\"8c74270c2ea22805a7c0e655811af14f\", element=\"78d3caf2-5a5b-4adb-b5f7-894eab1d2c76\")>,\n",
       " <selenium.webdriver.remote.webelement.WebElement (session=\"8c74270c2ea22805a7c0e655811af14f\", element=\"ef4e2c64-8b8f-4f4c-942f-4c0c4e0c2a59\")>,\n",
       " <selenium.webdriver.remote.webelement.WebElement (session=\"8c74270c2ea22805a7c0e655811af14f\", element=\"fcb214b8-7eb6-4330-b111-e79b19253586\")>,\n",
       " <selenium.webdriver.remote.webelement.WebElement (session=\"8c74270c2ea22805a7c0e655811af14f\", element=\"819e58e1-e6bd-4798-b6bf-10ae907bdb4c\")>,\n",
       " <selenium.webdriver.remote.webelement.WebElement (session=\"8c74270c2ea22805a7c0e655811af14f\", element=\"f42e0941-3d5e-47f8-a85f-2859d1dbaf8f\")>,\n",
       " <selenium.webdriver.remote.webelement.WebElement (session=\"8c74270c2ea22805a7c0e655811af14f\", element=\"296881b9-3313-4b35-9544-bb74b7f9f55d\")>,\n",
       " <selenium.webdriver.remote.webelement.WebElement (session=\"8c74270c2ea22805a7c0e655811af14f\", element=\"3a54520a-1b2d-4cea-99c7-92bfc01f3250\")>,\n",
       " <selenium.webdriver.remote.webelement.WebElement (session=\"8c74270c2ea22805a7c0e655811af14f\", element=\"47723d5a-dbd1-4169-bf6f-85de7afe80a6\")>,\n",
       " <selenium.webdriver.remote.webelement.WebElement (session=\"8c74270c2ea22805a7c0e655811af14f\", element=\"b37497b8-62d8-4ce8-860b-bf8f37cc66bd\")>,\n",
       " <selenium.webdriver.remote.webelement.WebElement (session=\"8c74270c2ea22805a7c0e655811af14f\", element=\"73349c13-f2de-46df-988d-070fa859df55\")>,\n",
       " <selenium.webdriver.remote.webelement.WebElement (session=\"8c74270c2ea22805a7c0e655811af14f\", element=\"09733c20-93c0-48dc-808e-d7fd8d9e81b6\")>,\n",
       " <selenium.webdriver.remote.webelement.WebElement (session=\"8c74270c2ea22805a7c0e655811af14f\", element=\"5567b4b1-4e8d-4a4a-8ec9-14d3a73aa89a\")>,\n",
       " <selenium.webdriver.remote.webelement.WebElement (session=\"8c74270c2ea22805a7c0e655811af14f\", element=\"737473aa-1f26-46f6-ae38-65d456834783\")>,\n",
       " <selenium.webdriver.remote.webelement.WebElement (session=\"8c74270c2ea22805a7c0e655811af14f\", element=\"a39aec63-c0a2-412e-a033-dcf7e63fdbf3\")>,\n",
       " <selenium.webdriver.remote.webelement.WebElement (session=\"8c74270c2ea22805a7c0e655811af14f\", element=\"92525815-0799-477f-9608-0b52197bce4a\")>,\n",
       " <selenium.webdriver.remote.webelement.WebElement (session=\"8c74270c2ea22805a7c0e655811af14f\", element=\"60216baa-c629-4ed8-be92-f58a644c383c\")>,\n",
       " <selenium.webdriver.remote.webelement.WebElement (session=\"8c74270c2ea22805a7c0e655811af14f\", element=\"ea0a0e09-93d7-4a4a-99b6-51f23fd66410\")>,\n",
       " <selenium.webdriver.remote.webelement.WebElement (session=\"8c74270c2ea22805a7c0e655811af14f\", element=\"a55e86dc-4523-46a5-b316-d9eacf9be0ce\")>,\n",
       " <selenium.webdriver.remote.webelement.WebElement (session=\"8c74270c2ea22805a7c0e655811af14f\", element=\"399c336a-36b7-4453-a3b9-257968ab61c6\")>,\n",
       " <selenium.webdriver.remote.webelement.WebElement (session=\"8c74270c2ea22805a7c0e655811af14f\", element=\"37bf9104-7c2c-4274-a84e-574c078b993e\")>,\n",
       " <selenium.webdriver.remote.webelement.WebElement (session=\"8c74270c2ea22805a7c0e655811af14f\", element=\"239f3183-9f4d-41a2-b4dd-86b95b793b8d\")>,\n",
       " <selenium.webdriver.remote.webelement.WebElement (session=\"8c74270c2ea22805a7c0e655811af14f\", element=\"ccc9db26-593a-4d8d-a174-3ed37c0297ec\")>,\n",
       " <selenium.webdriver.remote.webelement.WebElement (session=\"8c74270c2ea22805a7c0e655811af14f\", element=\"aeb6752e-4c95-48dd-943e-08bde9027485\")>,\n",
       " <selenium.webdriver.remote.webelement.WebElement (session=\"8c74270c2ea22805a7c0e655811af14f\", element=\"0dbd6e7c-4210-440f-857e-72aab9b840d5\")>,\n",
       " <selenium.webdriver.remote.webelement.WebElement (session=\"8c74270c2ea22805a7c0e655811af14f\", element=\"0df384f9-1691-458e-8619-691e328dd5d2\")>,\n",
       " <selenium.webdriver.remote.webelement.WebElement (session=\"8c74270c2ea22805a7c0e655811af14f\", element=\"f2a500c2-9793-406a-a8c2-8503173e38ac\")>,\n",
       " <selenium.webdriver.remote.webelement.WebElement (session=\"8c74270c2ea22805a7c0e655811af14f\", element=\"b12932f6-d5ed-45d6-97e6-5fc847bae5a5\")>,\n",
       " <selenium.webdriver.remote.webelement.WebElement (session=\"8c74270c2ea22805a7c0e655811af14f\", element=\"083dbdef-42cc-48ac-b0b5-8bb44093e903\")>,\n",
       " <selenium.webdriver.remote.webelement.WebElement (session=\"8c74270c2ea22805a7c0e655811af14f\", element=\"7f319fe2-cef6-450d-84f4-911471a55ae3\")>,\n",
       " <selenium.webdriver.remote.webelement.WebElement (session=\"8c74270c2ea22805a7c0e655811af14f\", element=\"9171b849-af0a-4883-8fbb-b26fd375a9c7\")>,\n",
       " <selenium.webdriver.remote.webelement.WebElement (session=\"8c74270c2ea22805a7c0e655811af14f\", element=\"46bf5ede-659e-47fb-b65e-e9efea2c8827\")>,\n",
       " <selenium.webdriver.remote.webelement.WebElement (session=\"8c74270c2ea22805a7c0e655811af14f\", element=\"6549ead4-a308-47de-98e2-7ea034458cfa\")>,\n",
       " <selenium.webdriver.remote.webelement.WebElement (session=\"8c74270c2ea22805a7c0e655811af14f\", element=\"4441dfec-8532-4fb6-979f-f42595095c1c\")>,\n",
       " <selenium.webdriver.remote.webelement.WebElement (session=\"8c74270c2ea22805a7c0e655811af14f\", element=\"4a9e92fb-c458-4d33-8fe6-70dad52b6649\")>,\n",
       " <selenium.webdriver.remote.webelement.WebElement (session=\"8c74270c2ea22805a7c0e655811af14f\", element=\"bbf2d5a4-381d-4307-a413-bbd09532fe79\")>,\n",
       " <selenium.webdriver.remote.webelement.WebElement (session=\"8c74270c2ea22805a7c0e655811af14f\", element=\"8224ca36-67bf-4e2b-979b-d2921dbe51bf\")>,\n",
       " <selenium.webdriver.remote.webelement.WebElement (session=\"8c74270c2ea22805a7c0e655811af14f\", element=\"642484e9-1d60-4422-a898-c73f43b88e2e\")>,\n",
       " <selenium.webdriver.remote.webelement.WebElement (session=\"8c74270c2ea22805a7c0e655811af14f\", element=\"58d3672e-5644-4055-a079-73611d45ce6a\")>,\n",
       " <selenium.webdriver.remote.webelement.WebElement (session=\"8c74270c2ea22805a7c0e655811af14f\", element=\"84980f25-d2d6-4ec8-8157-84c45f88a70d\")>,\n",
       " <selenium.webdriver.remote.webelement.WebElement (session=\"8c74270c2ea22805a7c0e655811af14f\", element=\"a55ee579-ff77-4f36-aa46-29e9de60cf7d\")>,\n",
       " <selenium.webdriver.remote.webelement.WebElement (session=\"8c74270c2ea22805a7c0e655811af14f\", element=\"dfcecf01-c17f-45ad-84aa-4a1651de5a78\")>,\n",
       " <selenium.webdriver.remote.webelement.WebElement (session=\"8c74270c2ea22805a7c0e655811af14f\", element=\"03b75a8f-bda5-44ee-b209-fec9f3ddddad\")>,\n",
       " <selenium.webdriver.remote.webelement.WebElement (session=\"8c74270c2ea22805a7c0e655811af14f\", element=\"08bf94d7-f361-4d60-8fc9-2f9204c16a7b\")>,\n",
       " <selenium.webdriver.remote.webelement.WebElement (session=\"8c74270c2ea22805a7c0e655811af14f\", element=\"6bc27192-eecb-48de-8dc7-57bc5cdae3ef\")>,\n",
       " <selenium.webdriver.remote.webelement.WebElement (session=\"8c74270c2ea22805a7c0e655811af14f\", element=\"0fe4d5a4-d787-426c-8867-99e517c510ef\")>,\n",
       " <selenium.webdriver.remote.webelement.WebElement (session=\"8c74270c2ea22805a7c0e655811af14f\", element=\"548a297b-b0f3-473e-b566-aac99ac3c6c4\")>,\n",
       " <selenium.webdriver.remote.webelement.WebElement (session=\"8c74270c2ea22805a7c0e655811af14f\", element=\"60c5e7dd-98f8-4db2-b1da-a4fc7a7bdfd2\")>,\n",
       " <selenium.webdriver.remote.webelement.WebElement (session=\"8c74270c2ea22805a7c0e655811af14f\", element=\"8509de8d-ce68-4439-8e61-9819dccc87fa\")>,\n",
       " <selenium.webdriver.remote.webelement.WebElement (session=\"8c74270c2ea22805a7c0e655811af14f\", element=\"74189cf5-1aaa-47fa-b8d7-16487fab5146\")>,\n",
       " <selenium.webdriver.remote.webelement.WebElement (session=\"8c74270c2ea22805a7c0e655811af14f\", element=\"b948ba24-577f-4bf0-b962-d51d41042b73\")>,\n",
       " <selenium.webdriver.remote.webelement.WebElement (session=\"8c74270c2ea22805a7c0e655811af14f\", element=\"17cf4f12-2676-4f1e-a237-b5e641bd4950\")>,\n",
       " <selenium.webdriver.remote.webelement.WebElement (session=\"8c74270c2ea22805a7c0e655811af14f\", element=\"5e38a511-6cd3-4d67-9941-03cba7a7bcaa\")>,\n",
       " <selenium.webdriver.remote.webelement.WebElement (session=\"8c74270c2ea22805a7c0e655811af14f\", element=\"3a6cd2e2-898e-482a-b643-c539453faa61\")>,\n",
       " <selenium.webdriver.remote.webelement.WebElement (session=\"8c74270c2ea22805a7c0e655811af14f\", element=\"f566f1f0-6918-4159-882c-893ffb4949ca\")>,\n",
       " <selenium.webdriver.remote.webelement.WebElement (session=\"8c74270c2ea22805a7c0e655811af14f\", element=\"df113a1e-4fb6-4d8e-a6bc-53314a6e4329\")>,\n",
       " <selenium.webdriver.remote.webelement.WebElement (session=\"8c74270c2ea22805a7c0e655811af14f\", element=\"d5faaf4e-d2db-4601-9983-8c1868903dcb\")>,\n",
       " <selenium.webdriver.remote.webelement.WebElement (session=\"8c74270c2ea22805a7c0e655811af14f\", element=\"5d1181b4-27a0-4984-870d-dc531c76dce7\")>,\n",
       " <selenium.webdriver.remote.webelement.WebElement (session=\"8c74270c2ea22805a7c0e655811af14f\", element=\"8e70984a-aaee-412d-af65-3c2c89bb71fc\")>,\n",
       " <selenium.webdriver.remote.webelement.WebElement (session=\"8c74270c2ea22805a7c0e655811af14f\", element=\"0a1ac735-29d7-468c-bfc3-161fd1d6e6f2\")>,\n",
       " <selenium.webdriver.remote.webelement.WebElement (session=\"8c74270c2ea22805a7c0e655811af14f\", element=\"a96382e7-5b31-468a-88a9-5a62518ed7aa\")>,\n",
       " <selenium.webdriver.remote.webelement.WebElement (session=\"8c74270c2ea22805a7c0e655811af14f\", element=\"b8f5f5a5-4b4a-4b84-b64a-1a5381f6a3c9\")>,\n",
       " <selenium.webdriver.remote.webelement.WebElement (session=\"8c74270c2ea22805a7c0e655811af14f\", element=\"1862c03d-0d62-4441-99ab-cdc329babedf\")>,\n",
       " <selenium.webdriver.remote.webelement.WebElement (session=\"8c74270c2ea22805a7c0e655811af14f\", element=\"bea978d5-63a8-4ea5-a444-e8c34d6f426b\")>,\n",
       " <selenium.webdriver.remote.webelement.WebElement (session=\"8c74270c2ea22805a7c0e655811af14f\", element=\"2b08bd47-db17-4a87-ac94-4463c215f9d1\")>,\n",
       " <selenium.webdriver.remote.webelement.WebElement (session=\"8c74270c2ea22805a7c0e655811af14f\", element=\"81f45d05-4916-4f3f-9669-eed6b4203340\")>,\n",
       " <selenium.webdriver.remote.webelement.WebElement (session=\"8c74270c2ea22805a7c0e655811af14f\", element=\"ec64d316-b243-4206-ab67-0d19c7a61deb\")>,\n",
       " <selenium.webdriver.remote.webelement.WebElement (session=\"8c74270c2ea22805a7c0e655811af14f\", element=\"b98abc54-245a-45ad-9935-0c8de0cb049d\")>,\n",
       " <selenium.webdriver.remote.webelement.WebElement (session=\"8c74270c2ea22805a7c0e655811af14f\", element=\"25d1c94c-10bf-4d86-9272-40c1358cc638\")>,\n",
       " <selenium.webdriver.remote.webelement.WebElement (session=\"8c74270c2ea22805a7c0e655811af14f\", element=\"050bbe31-bf39-4ce1-9095-ae64a9c0bf3e\")>,\n",
       " <selenium.webdriver.remote.webelement.WebElement (session=\"8c74270c2ea22805a7c0e655811af14f\", element=\"61efb071-8728-4cc6-bb30-4ec2cc0ae3c5\")>,\n",
       " <selenium.webdriver.remote.webelement.WebElement (session=\"8c74270c2ea22805a7c0e655811af14f\", element=\"7af6c198-220f-4ca1-be52-e1752c108a3f\")>,\n",
       " <selenium.webdriver.remote.webelement.WebElement (session=\"8c74270c2ea22805a7c0e655811af14f\", element=\"fb4ed84b-923f-4ed3-9895-451b0d4e49aa\")>,\n",
       " <selenium.webdriver.remote.webelement.WebElement (session=\"8c74270c2ea22805a7c0e655811af14f\", element=\"fea33f10-06a8-476f-9e6b-e3509c0d530f\")>,\n",
       " <selenium.webdriver.remote.webelement.WebElement (session=\"8c74270c2ea22805a7c0e655811af14f\", element=\"4ec12684-dc86-43dc-9682-3a0a0d07794a\")>,\n",
       " <selenium.webdriver.remote.webelement.WebElement (session=\"8c74270c2ea22805a7c0e655811af14f\", element=\"9789c191-5935-4064-a7da-1a177b5abcdd\")>,\n",
       " <selenium.webdriver.remote.webelement.WebElement (session=\"8c74270c2ea22805a7c0e655811af14f\", element=\"971b4e4c-a6bc-45c6-8b2e-a96624135cf0\")>,\n",
       " <selenium.webdriver.remote.webelement.WebElement (session=\"8c74270c2ea22805a7c0e655811af14f\", element=\"87c9a0f9-2f91-41a9-89e6-6e46b3ba4e4e\")>,\n",
       " <selenium.webdriver.remote.webelement.WebElement (session=\"8c74270c2ea22805a7c0e655811af14f\", element=\"a899fcb8-65c9-4c1c-bd80-b59069180fa6\")>,\n",
       " <selenium.webdriver.remote.webelement.WebElement (session=\"8c74270c2ea22805a7c0e655811af14f\", element=\"d7dad9b8-e5fb-4d2c-b3c3-71a247ed6984\")>,\n",
       " <selenium.webdriver.remote.webelement.WebElement (session=\"8c74270c2ea22805a7c0e655811af14f\", element=\"eee5f818-2669-4d9c-aaf3-4dd2df8e4de6\")>,\n",
       " <selenium.webdriver.remote.webelement.WebElement (session=\"8c74270c2ea22805a7c0e655811af14f\", element=\"5a1326f7-8ea7-48b5-91ca-772a99a13944\")>,\n",
       " <selenium.webdriver.remote.webelement.WebElement (session=\"8c74270c2ea22805a7c0e655811af14f\", element=\"bc3494a7-7c8f-4b91-8cbf-ffe95c373831\")>,\n",
       " <selenium.webdriver.remote.webelement.WebElement (session=\"8c74270c2ea22805a7c0e655811af14f\", element=\"82247466-4c23-49a2-a6f3-2b701beca215\")>,\n",
       " <selenium.webdriver.remote.webelement.WebElement (session=\"8c74270c2ea22805a7c0e655811af14f\", element=\"ebeaf6ac-6cfb-4d3c-87a7-f280aa5a0496\")>]"
      ]
     },
     "execution_count": 44,
     "metadata": {},
     "output_type": "execute_result"
    }
   ],
   "source": [
    "character"
   ]
  },
  {
   "cell_type": "code",
   "execution_count": 45,
   "metadata": {},
   "outputs": [
    {
     "name": "stdout",
     "output_type": "stream",
     "text": [
      "200\n"
     ]
    }
   ],
   "source": [
    "print(len(character))"
   ]
  },
  {
   "cell_type": "code",
   "execution_count": 46,
   "metadata": {},
   "outputs": [
    {
     "data": {
      "text/plain": [
       "'Brynden Rivers'"
      ]
     },
     "execution_count": 46,
     "metadata": {},
     "output_type": "execute_result"
    }
   ],
   "source": [
    "character[199].text"
   ]
  },
  {
   "cell_type": "code",
   "execution_count": 47,
   "metadata": {},
   "outputs": [
    {
     "data": {
      "text/plain": [
       "'https://iceandfire.fandom.com/wiki/Brynden_Rivers'"
      ]
     },
     "execution_count": 47,
     "metadata": {},
     "output_type": "execute_result"
    }
   ],
   "source": [
    "character[199].get_attribute('href')"
   ]
  },
  {
   "cell_type": "code",
   "execution_count": 48,
   "metadata": {},
   "outputs": [],
   "source": [
    "driver.get(character[199].get_attribute('href'))"
   ]
  },
  {
   "cell_type": "code",
   "execution_count": 67,
   "metadata": {},
   "outputs": [],
   "source": [
    "#description = driver.find_elements('class name', \"main-container\")"
   ]
  }
 ],
 "metadata": {
  "kernelspec": {
   "display_name": "Python 3",
   "language": "python",
   "name": "python3"
  },
  "language_info": {
   "codemirror_mode": {
    "name": "ipython",
    "version": 3
   },
   "file_extension": ".py",
   "mimetype": "text/x-python",
   "name": "python",
   "nbconvert_exporter": "python",
   "pygments_lexer": "ipython3",
   "version": "3.7.6"
  }
 },
 "nbformat": 4,
 "nbformat_minor": 4
}
